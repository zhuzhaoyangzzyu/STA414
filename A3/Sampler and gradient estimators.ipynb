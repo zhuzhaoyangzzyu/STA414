{
 "cells": [
  {
   "cell_type": "markdown",
   "metadata": {},
   "source": [
    "Zhu, Zhaoyang\n",
    "\n",
    "1002321445\n",
    "\n",
    "# Q1{.unnumbered}\n",
    "\n",
    "## a). {.unnumbered}\n"
   ]
  },
  {
   "cell_type": "code",
   "execution_count": 9,
   "metadata": {},
   "outputs": [
    {
     "name": "stdout",
     "output_type": "stream",
     "text": [
      "The fraction of photon that get obsorbed on average is 0.799999\n"
     ]
    }
   ],
   "source": [
    "import numpy as np\n",
    "import matplotlib.pyplot as plt\n",
    "import scipy.stats as st\n",
    "# Q1 a).\n",
    "# using Riemann sum\n",
    "def g(x, theta=0):\n",
    "    if np.sin(x - theta) == 0:\n",
    "        return 0\n",
    "    return (np.sin(5 * (x -  theta))**2) / (25 * np.sin(x - theta)**2)\n",
    "\n",
    "def integral(x, theta=0, sd=4):\n",
    "    px = st.norm.pdf(x, theta, sd)\n",
    "    return px - px * g(x)\n",
    "\n",
    "x, spacing = np.linspace(start=-20, stop=20, num=10000, retstep=True)\n",
    "result = 0\n",
    "for i in x:\n",
    "    result += integral(i) * spacing\n",
    "print(\"The fraction of photon that get obsorbed on average is %s\"%(round(result, 6)))\n"
   ]
  },
  {
   "cell_type": "markdown",
   "metadata": {},
   "source": [
    "## b). {.unnumbered}\n",
    "\n",
    ">$p(x, g=1 | \\theta=0) = p(g=1 | x, \\theta=0)p(x | \\theta=0) = p(x | \\theta=0)f(x, \\theta=0)$\n",
    "\n",
    ">We know that $p(g | x, \\theta=0) \\leq 1$\n",
    "\n",
    ">$\\implies p(x)p(g | x, \\theta=0) \\leq p(x)$\n",
    "\n",
    ">$\\implies p(x | \\theta)f(x, \\theta)^g (1 - f(x, \\theta))^{1 - g} \\leq p(x | \\theta)$\n",
    "\n",
    ">Let $g = 1, \\theta = 0$\n",
    "\n",
    ">$\\implies p(x | \\theta=0)f(x, \\theta=0) \\leq p(x | \\theta=0)$\n",
    "\n",
    ">Therefore, we can use $p(x | \\theta=0)$ to generate $p(x, g=1 | \\theta=0)$"
   ]
  },
  {
   "cell_type": "code",
   "execution_count": 3,
   "metadata": {},
   "outputs": [
    {
     "data": {
      "text/plain": [
       "(array([ 1.,  0.,  0.,  0.,  0.,  0.,  0.,  0.,  0.,  0.,  0.,  0.,  0.,\n",
       "         0.,  0.,  0.,  0.,  0.,  0.,  0.,  0.,  0.,  0.,  0.,  0.,  0.,\n",
       "         0.,  0.,  0.,  0.,  0.,  1.,  0.,  0.,  1.,  0.,  0.,  0.,  0.,\n",
       "         0.,  0.,  0.,  0.,  0.,  0.,  0.,  0.,  0.,  0.,  0.,  0.,  0.,\n",
       "         0.,  0.,  0.,  0.,  0.,  0.,  0.,  0.,  0.,  0.,  0.,  0.,  0.,\n",
       "         0.,  0.,  1.,  0.,  1.,  1.,  0.,  0.,  0.,  0.,  0.,  0.,  0.,\n",
       "         0.,  0.,  0.,  0.,  0.,  0.,  1.,  0.,  1.,  0.,  0.,  0.,  0.,\n",
       "         1.,  0.,  0.,  0.,  0.,  0.,  0.,  0.,  1.,  0.,  1.,  1.,  0.,\n",
       "         0.,  1.,  0.,  0.,  1.,  0.,  1.,  0.,  0.,  1.,  0.,  1.,  0.,\n",
       "         0.,  0.,  1.,  0.,  0.,  0.,  0.,  0.,  2.,  0.,  0.,  0.,  0.,\n",
       "         0.,  0.,  0.,  0.,  1.,  1.,  1.,  1.,  2.,  0.,  2.,  0.,  0.,\n",
       "         0.,  0.,  1.,  0.,  0.,  0.,  0.,  1.,  1.,  0.,  2.,  1.,  2.,\n",
       "         0.,  2.,  0.,  1.,  1.,  1.,  1.,  0.,  1.,  0.,  0.,  1.,  1.,\n",
       "         1.,  0.,  3.,  0.,  2.,  2.,  1.,  1.,  0.,  0.,  3.,  0.,  1.,\n",
       "         2.,  1.,  0.,  0.,  3.,  0.,  1.,  0.,  1.,  0.,  1.,  3.,  0.,\n",
       "         1.,  3.,  0.,  6.,  3.,  1.,  1.,  4.,  0.,  1.,  0.,  5.,  2.,\n",
       "         3.,  1.,  2.,  0.,  0.,  3.,  1.,  3.,  3.,  1.,  5.,  2.,  3.,\n",
       "         3.,  3.,  5.,  3.,  3.,  6.,  4.,  4.,  5.,  3.,  3.,  3.,  3.,\n",
       "         1.,  4.,  5.,  3.,  2.,  5.,  4.,  2.,  2., 11.,  4.,  7.,  1.,\n",
       "         1.,  0.,  5.,  7.,  2.,  5.,  1.,  5.,  4.,  7.,  7.,  6.,  4.,\n",
       "         2.,  7.,  9.,  6.,  7.,  3.,  2.,  0.,  0.,  1.,  4.,  4.,  6.,\n",
       "         9., 12., 11.,  6.,  9.,  6., 12.,  5., 13.,  8.,  6., 10.,  7.,\n",
       "         2.,  2.,  0.,  0.,  2.,  4.,  6., 13., 10.,  8.,  7., 13., 16.,\n",
       "         7., 13.,  8.,  6.,  8., 15., 15.,  8.,  5.,  2.,  1.,  0.,  3.,\n",
       "        10., 16., 10.,  9., 16., 14., 13.,  8., 14., 11., 14., 22., 16.,\n",
       "        16., 17., 15., 16., 19., 10., 14., 11., 12., 15., 10., 21., 14.,\n",
       "        20., 18., 25., 15., 17., 17., 25., 18., 19., 21., 17., 13.,  3.,\n",
       "         1.,  0.,  3.,  3., 13., 22., 19., 19., 22., 20., 22., 27., 26.,\n",
       "        21., 17., 16., 14.,  5.,  8.,  4.,  0.,  0.,  0.,  3.,  2.,  7.,\n",
       "         8.,  9., 16., 16., 17., 27., 21., 18., 15., 15., 11., 11., 10.,\n",
       "         5.,  2.,  1.,  0.,  0.,  0.,  1., 11., 10., 15., 14., 19., 25.,\n",
       "        30., 34., 29., 24., 31., 22., 24., 14., 10.,  7.,  3.,  1.,  2.,\n",
       "         5.,  9., 16., 28., 34., 33., 25., 33., 41., 28., 39., 26., 36.,\n",
       "        45., 30., 28., 40., 43., 47., 36., 33., 32., 36., 38., 42., 37.,\n",
       "        31., 25., 41., 32., 33., 27., 42., 45., 42., 39., 31.,  9.,  8.,\n",
       "         3.,  0.,  0.,  7., 13., 11., 18., 25., 32., 29., 24., 29., 21.,\n",
       "        31., 23., 20., 14., 10.,  9.,  4.,  5.,  1.,  0.,  0.,  0.,  3.,\n",
       "         1.,  6.,  6., 10., 11., 28., 29., 21., 29., 16., 16., 19., 10.,\n",
       "         9.,  5.,  1.,  0.,  0.,  0.,  1.,  2., 10., 12., 13., 22., 22.,\n",
       "        35., 37., 23., 32., 30., 27., 24., 27., 14., 10.,  1.,  3.,  0.,\n",
       "         1.,  6., 19., 34., 44., 52., 58., 45., 41., 55., 55., 50., 54.,\n",
       "        48., 52., 54., 56., 62., 45., 50., 57., 36., 41., 48., 45., 53.,\n",
       "        45., 61., 54., 67., 38., 49., 52., 58., 43., 46., 48., 19., 11.,\n",
       "         9.,  1.,  0.,  1.,  8.,  8., 11., 24., 25., 32., 31., 27., 33.,\n",
       "        29., 26., 29., 22., 14., 13.,  5.,  2.,  1.,  0.,  0.,  1.,  2.,\n",
       "         3.,  8.,  9., 18., 11., 17., 24., 14., 19., 28., 21.,  9., 10.,\n",
       "        10.,  3.,  1.,  3.,  0.,  0.,  0.,  3.,  5.,  6., 15., 15., 15.,\n",
       "        33., 25., 34., 22., 27., 31., 27., 28., 15., 15., 10.,  0.,  2.,\n",
       "         0.,  2.,  8., 13., 35., 34., 30., 39., 47., 34., 41., 38., 40.,\n",
       "        33., 41., 33., 35., 36., 47., 42., 29., 25., 36., 37., 32., 41.,\n",
       "        32., 44., 24., 38., 39., 25., 44., 32., 37., 35., 27., 34., 26.,\n",
       "         8.,  5.,  0.,  0.,  0.,  8.,  9., 17., 22., 23., 26., 40., 34.,\n",
       "        22., 25., 28., 30., 14., 10.,  4.,  6.,  3.,  3.,  0.,  1.,  1.,\n",
       "         2.,  8.,  9.,  7., 14., 20., 13., 20., 14., 24., 10., 12., 20.,\n",
       "        13., 11.,  5.,  3.,  3.,  1.,  0.,  1.,  3.,  6.,  8., 17., 21.,\n",
       "        17., 26., 22., 35., 13., 17., 19., 15., 22., 16., 14.,  7.,  2.,\n",
       "         0.,  0.,  4.,  5., 22., 23., 23., 13., 18., 20., 16., 14., 17.,\n",
       "        14., 17., 16., 14., 14., 17., 12., 12., 10., 19., 16., 17., 15.,\n",
       "        15., 15., 18., 10., 12., 10., 12., 12., 12., 22., 16., 10., 13.,\n",
       "        12.,  7.,  3.,  0.,  0.,  3.,  6.,  7., 12., 10., 13.,  5.,  7.,\n",
       "        19., 11., 10.,  7.,  8.,  8.,  5.,  4.,  3.,  2.,  2.,  2.,  1.,\n",
       "         2.,  2.,  2.,  6.,  7., 11.,  6.,  7.,  4.,  9.,  2.,  4., 12.,\n",
       "         0.,  7., 10.,  7.,  0.,  0.,  0.,  1.,  1.,  3.,  5.,  5.,  1.,\n",
       "         9.,  8.,  3.,  4.,  4.,  2.,  3.,  5.,  6.,  5.,  5.,  2.,  8.,\n",
       "         0.,  1.,  0.,  2.,  3.,  3.,  4.,  3.,  2.,  3.,  5.,  6.,  0.,\n",
       "         4.,  3.,  4.,  4.,  2.,  7.,  5.,  0.,  6.,  3.,  2.,  4.,  4.,\n",
       "         6.,  1.,  1.,  5.,  2.,  3.,  0.,  3.,  1.,  2.,  1.,  0.,  2.,\n",
       "         1.,  4.,  0.,  4.,  0.,  0.,  3.,  3.,  0.,  1.,  3.,  1.,  2.,\n",
       "         4.,  3.,  1.,  0.,  4.,  3.,  2.,  2.,  1.,  0.,  0.,  0.,  0.,\n",
       "         0.,  1.,  3.,  1.,  1.,  0.,  3.,  2.,  1.,  2.,  1.,  1.,  3.,\n",
       "         1.,  0.,  0.,  0.,  0.,  1.,  0.,  0.,  0.,  1.,  2.,  0.,  0.,\n",
       "         1.,  1.,  2.,  0.,  1.,  0.,  2.,  0.,  0.,  1.,  2.,  0.,  1.,\n",
       "         0.,  3.,  0.,  0.,  2.,  0.,  0.,  0.,  0.,  0.,  1.,  0.,  0.,\n",
       "         1.,  0.,  0.,  1.,  0.,  1.,  0.,  0.,  1.,  0.,  2.,  0.,  0.,\n",
       "         0.,  0.,  0.,  0.,  0.,  3.,  2.,  0.,  0.,  0.,  1.,  1.,  1.,\n",
       "         0.,  0.,  0.,  0.,  0.,  0.,  0.,  0.,  0.,  0.,  0.,  0.,  0.,\n",
       "         0.,  0.,  0.,  0.,  0.,  0.,  0.,  0.,  0.,  0.,  0.,  1.]),\n",
       " array([-16.21171243, -16.18171824, -16.15172405, ...,  13.72248817,\n",
       "         13.75248236,  13.78247655]),\n",
       " <a list of 1000 Patch objects>)"
      ]
     },
     "execution_count": 3,
     "metadata": {},
     "output_type": "execute_result"
    },
    {
     "data": {
      "image/png": "[encoded data removed]",
      "text/plain": [
       "<Figure size 432x288 with 1 Axes>"
      ]
     },
     "metadata": {
      "needs_background": "light"
     },
     "output_type": "display_data"
    }
   ],
   "source": [
    "def rejection_sampling(success, theta=0, sd=4):\n",
    "    result = np.array([]).reshape(0, 2)\n",
    "    accept = 0\n",
    "    tryout = 0\n",
    "    while success > 0:\n",
    "        tryout += 1\n",
    "        x_i = np.random.normal(theta, sd)\n",
    "        \n",
    "        u_i = np.random.uniform(0, st.norm.pdf(x_i, theta, sd))\n",
    "        if u_i <= g(x_i):\n",
    "            result = np.concatenate((result, np.array([x_i, u_i]).\\\n",
    "                                     reshape(1, 2)))\n",
    "            success -= 1\n",
    "            accept += 1\n",
    "    \n",
    "    return result, accept/tryout\n",
    "\n",
    "distribution, accept = rejection_sampling(10000)\n",
    "plt.figure()\n",
    "plt.hist(distribution[:, 0], bins=1000)"
   ]
  },
  {
   "cell_type": "markdown",
   "metadata": {},
   "source": [
    "## c). {.unnumbered}\n",
    "\n",
    ">$p(g=0 | \\theta=0) = E(p(g=0 | \\theta=0, x)) = \\int p(x | \\theta=0)p(g=0 | \\theta=0, x)dx$\\\n",
    "\n",
    ">Let $p(x) = p(x | \\theta=0), f(x) = p(g=0 | \\theta=0, x), q(x) = p(x | \\theta=0)$\n",
    "\n",
    ">$\\implies p(g=0 | \\theta=0) = \\frac{\\sum_{i=1}^{n} f(x_i)}{n}$"
   ]
  },
  {
   "cell_type": "code",
   "execution_count": 10,
   "metadata": {},
   "outputs": [
    {
     "name": "stdout",
     "output_type": "stream",
     "text": [
      "The fraction of photon that get obsorbed on average is 0.795266\n"
     ]
    }
   ],
   "source": [
    "def normalized_importance_sampler(n, theta=0, sd=4):\n",
    "    x = np.random.normal(theta, sd, n)\n",
    "    result = 0\n",
    "    for i in x:\n",
    "        result += 1 - g(i)\n",
    "    return result / n\n",
    "\n",
    "print(\"The fraction of photon that get obsorbed on average is %s\"\\\n",
    "      %(round(normalized_importance_sampler(1000), 6)))"
   ]
  },
  {
   "cell_type": "markdown",
   "metadata": {},
   "source": [
    "## d). {.unnumbered}\n",
    "\n",
    ">$p(x, g, \\theta) = p(x, g | \\theta)p(\\theta)$\n",
    "\n",
    ">$\\implies p(x=1.7, g=1, \\theta) = p(x=1.7, g=1 | \\theta)p(\\theta) = f(x=1.7, \\theta)p(\\theta) = \\frac{\\sin^2(5(1.7 - \\theta))}{10\\pi(1 + (\\frac{\\theta}{10}^2))25\\sin^2(1.7 - \\theta)}$\n"
   ]
  },
  {
   "cell_type": "code",
   "execution_count": 5,
   "metadata": {},
   "outputs": [
    {
     "data": {
      "text/plain": [
       "[<matplotlib.lines.Line2D at 0x19384c66208>]"
      ]
     },
     "execution_count": 5,
     "metadata": {},
     "output_type": "execute_result"
    },
    {
     "data": {
      "image/png": "[encoded data removed]",
      "text/plain": [
       "<Figure size 432x288 with 1 Axes>"
      ]
     },
     "metadata": {
      "needs_background": "light"
     },
     "output_type": "display_data"
    }
   ],
   "source": [
    "def theta_prior(theta):\n",
    "    return 1 / (10 * np.pi + np.pi * theta**2 / 10 )\n",
    "\n",
    "def joint_density(theta, x=1.7, a=1):\n",
    "    return theta_prior(theta) * g(x, theta)**a * (1 - g(x, theta))**(1 - a)\n",
    "\n",
    "new_x = np.linspace(start=-20, stop=20, num=5000)\n",
    "y = np.array([])\n",
    "for i in new_x:\n",
    "    y = np.append(y, joint_density(i))\n",
    "\n",
    "plt.figure()\n",
    "plt.plot(new_x, y)"
   ]
  },
  {
   "cell_type": "markdown",
   "metadata": {},
   "source": [
    "## e). {.unnumbered}\n",
    "\n",
    ">$p(\\theta | x, g) \\propto p(x, g| \\theta) p(\\theta) = p(x, g, \\theta)$\n"
   ]
  },
  {
   "cell_type": "code",
   "execution_count": 6,
   "metadata": {},
   "outputs": [
    {
     "data": {
      "text/plain": [
       "Text(0.5, 1.0, 'initial theta = 0, sd = 4, range(-20, 20)')"
      ]
     },
     "execution_count": 6,
     "metadata": {},
     "output_type": "execute_result"
    },
    {
     "data": {
      "image/png": "[encoded data removed]",
      "text/plain": [
       "<Figure size 432x288 with 1 Axes>"
      ]
     },
     "metadata": {
      "needs_background": "light"
     },
     "output_type": "display_data"
    },
    {
     "data": {
      "image/png": "[encoded data removed]",
      "text/plain": [
       "<Figure size 432x288 with 1 Axes>"
      ]
     },
     "metadata": {
      "needs_background": "light"
     },
     "output_type": "display_data"
    },
    {
     "data": {
      "image/png": "[encoded data removed]",
      "text/plain": [
       "<Figure size 432x288 with 1 Axes>"
      ]
     },
     "metadata": {
      "needs_background": "light"
     },
     "output_type": "display_data"
    },
    {
     "data": {
      "image/png": "[encoded data removed]",
      "text/plain": [
       "<Figure size 432x288 with 1 Axes>"
      ]
     },
     "metadata": {
      "needs_background": "light"
     },
     "output_type": "display_data"
    },
    {
     "data": {
      "image/png": "[encoded data removed]",
      "text/plain": [
       "<Figure size 432x288 with 1 Axes>"
      ]
     },
     "metadata": {
      "needs_background": "light"
     },
     "output_type": "display_data"
    }
   ],
   "source": [
    "def mh_algo_normal(iteration, init, sd):\n",
    "    curr_state = init\n",
    "    result = [curr_state]\n",
    "    while iteration > 0:\n",
    "        u = np.random.uniform()\n",
    "        prop = np.random.normal(curr_state, sd)\n",
    "        top = st.norm.pdf(curr_state, prop, sd) * joint_density(prop)\n",
    "        bot = st.norm.pdf(prop, curr_state, sd) * joint_density(curr_state)\n",
    "        a = np.minimum(1, top / bot)\n",
    "        if u < a:\n",
    "            curr_state = prop\n",
    "            result.append(curr_state)\n",
    "        else:\n",
    "            pass\n",
    "        iteration -= 1\n",
    "    return result\n",
    "\n",
    "plt.figure()\n",
    "mh_one = mh_algo_normal(10000, 0, 1)\n",
    "plt.hist(mh_one, bins=1000)\n",
    "plt.title(\"initial theta = 0, sd = 1\")\n",
    "plt.figure()\n",
    "mh_two = mh_algo_normal(10000, 0, 2)\n",
    "plt.hist(mh_two, bins=1000)\n",
    "plt.title(\"initial theta = 0, sd = 2\")\n",
    "plt.figure()\n",
    "mh_three = mh_algo_normal(10000, 0, 3)\n",
    "plt.hist(mh_three, bins=1000)\n",
    "plt.title(\"initial theta = 0, sd = 3\")\n",
    "plt.figure()\n",
    "mh_four = mh_algo_normal(10000, 0, 4)\n",
    "plt.hist(mh_four, bins=1000)\n",
    "plt.title(\"initial theta = 0, sd = 4\")\n",
    "plt.figure()\n",
    "plt.hist([i for i in mh_four if (i <= 20) & (i >= -20)], bins=1000)\n",
    "plt.title(\"initial theta = 0, sd = 4, range(-20, 20)\")"
   ]
  },
  {
   "cell_type": "markdown",
   "metadata": {},
   "source": [
    "## f). {.unnumbered}\n"
   ]
  },
  {
   "cell_type": "code",
   "execution_count": 11,
   "metadata": {},
   "outputs": [
    {
     "name": "stdout",
     "output_type": "stream",
     "text": [
      "The estimate posterior probability is 0.156618\n"
     ]
    }
   ],
   "source": [
    "upper = len([i for i in mh_four if i < 3])\n",
    "lower = len([i for i in mh_four if i < -3])\n",
    "\n",
    "print(\"The estimate posterior probability is %s\"\\\n",
    "      %(round((upper - lower) / len(mh_four), 6)))"
   ]
  },
  {
   "cell_type": "markdown",
   "metadata": {},
   "source": [
    "# Q2). {.unnumbered}\n",
    "\n",
    "## a). {.unnumbered}\n",
    "\n",
    ">$E_{p(b |\\theta)}[\\triangledown_{\\theta}log(p(b | \\theta))] = E_{p(b |\\theta)}[\\frac{\\triangledown_{\\theta} p(b | \\theta)}{p(b | \\theta)}] = \\int p(b | \\theta)\\frac{\\triangledown_{\\theta} p(b | \\theta)}{p(b | \\theta)}db = \\int \\triangledown_{\\theta} p(b | \\theta) = \\triangledown_{\\theta} \\int p(b | \\theta)db = \\triangledown_{\\theta}(1) = 0$\n",
    "\n",
    "## b). {.unnumbered}\n",
    "\n",
    ">$E_{p(b | \\theta)} [f(b)\\triangledown_{\\theta} log(p(b | \\theta))] = E_{p(b | \\theta)} [f(b)\\frac{\\triangledown_{\\theta} p(b | \\theta)}{p(b | \\theta)}] = \\int f(b)\\frac{\\triangledown_{\\theta} p(b | \\theta)}{p(b | \\theta)} p(b | \\theta)db = \\int f(b)\\triangledown_{\\theta}p(b | \\theta)db$\n",
    "\n",
    "> Since $f(b)$ is a function of b\n",
    "\n",
    ">$\\implies \\int f(b)\\triangledown_{\\theta}p(b | \\theta)db = \\int \\triangledown_{\\theta}p(b | \\theta)f(b)db = \\triangledown_{\\theta}\\int p(b | \\theta)f(b)db = \\triangledown_{\\theta}E_{p(b |\\theta)}[f(b)]$\n",
    "\n",
    "## c). {.unnumbered}\n",
    "\n",
    ">$E_{p(b | \\theta)} [(f(b) - c)\\triangledown_{\\theta} log(p(b | \\theta))] = E_{p(b | \\theta)} [(f(b) - c)\\frac{\\triangledown_{\\theta} p(b | \\theta)}{p(b | \\theta)}] = \\int (f(b) - c)\\frac{\\triangledown_{\\theta} p(b | \\theta)}{p(b | \\theta)} p(b | \\theta)db = \\triangledown_{\\theta}E_{p(x | \\theta)}[f(b) - c] = \\triangledown_{\\theta} E_{p(x | \\theta)}[f(b)] - \\triangledown_{\\theta} E_{p(x | \\theta)}[c] = \\triangledown_{\\theta} E_{p(x | \\theta)}[f(b)] - 0 = \\triangledown_{\\theta} E_{p(x | \\theta)}[f(b)]$\n",
    "\n",
    "## d). {.unnumbered}\n",
    "\n",
    ">Let $c(b) = f(b)$\n",
    "\n",
    ">From the rest of part 2, we know that $E_{p(b | \\theta)} [(f(b) - c(b))\\triangledown_{\\theta} log(p(b | \\theta))] = \\triangledown_{\\theta} E_{p(x | \\theta)}[f(b) - c(b)]$\n",
    "\n",
    ">Since $c(b) = f(b) \\implies \\triangledown_{\\theta} E_{p(x | \\theta)}[f(b) - f(b)] = 0 \\neq \\triangledown_{\\theta} E_{p(x | \\theta)}[f(b)]$ which means that the estimator is biased."
   ]
  },
  {
   "cell_type": "markdown",
   "metadata": {},
   "source": [
    "# Q3 {.unnumbered}\n",
    "\n",
    "## a). {.unnumbered}\n",
    "\n",
    ">$V(\\hat L_{MC}) = V(\\sum_{d=1}^{D} x_d) = V(x_1 + .... + x_d)$\n",
    "\n",
    ">Since $x_d \\sim_{i.i.d} N(\\theta_d, 1)$\n",
    "\n",
    ">$\\implies V(x_1 + .... + x_d) = V(x_1) + ... + V(x_d) = 1 +... + 1 = D$\n",
    "\n",
    "## b). {.unnumbered}\n",
    "\n",
    ">$\\hat g = [f(x) - c(\\theta)] \\triangledown_{\\theta} log(\\bar x |\\theta) = [\\sum_d x_d - \\sum_d \\theta_d] \\triangledown_{\\theta} (\\sum_d -\\frac{1}{2}(\\bar x_d - \\theta_d)^2)$\n",
    "\n",
    ">Let $x_d = \\bar\\theta_d + \\bar\\epsilon_d$ and $\\epsilon \\sim N(0, 1)$\n",
    "\n",
    ">$\\implies \\hat g_i = \\sum_d (\\theta_d + \\epsilon_d - \\theta_d) \\triangledown_{\\theta_i}(-\\frac{1}{2}(\\bar\\theta_i + \\bar\\epsilon_i -\\theta_i)^2) = \\sum_d (\\epsilon_d)(\\bar\\theta_i + \\bar\\epsilon_i - \\theta_i) =  \\epsilon_i\\sum_d \\epsilon_d$\n",
    "\n",
    ">$\\implies \\hat g = \\epsilon \\sum_d \\epsilon_d$\n",
    "\n",
    "## c). {.unnumbered}\n",
    "\n",
    ">$V(\\hat g_1^{SF}) = V(\\epsilon_1 \\sum_{d}\\epsilon_d) = V(\\epsilon_1^2 + \\epsilon_1\\epsilon_2 + ... + \\epsilon_1\\epsilon_d)$\n",
    "\n",
    ">Since $E(\\epsilon^2) = V(\\epsilon) + E^2(\\epsilon) = 1 + 0 = 1$ and $\\epsilon \\sim_{i.i.d} N(0, 1)$\n",
    "\n",
    ">$\\implies V(\\epsilon_1^2 + \\epsilon_1\\epsilon_2 + ... + \\epsilon_1\\epsilon_d) = V(\\epsilon_1^2) + V(\\epsilon_1\\epsilon_2) + .. + V(\\epsilon_1\\epsilon_d) = E(\\epsilon_1^4) - E^2(\\epsilon_1^2) + E(\\epsilon_1^2\\epsilon_2^2) - E^2(\\epsilon_1\\epsilon_2) + ... + E(\\epsilon_1^2\\epsilon_d^2) - E^2(\\epsilon_1\\epsilon_d) =  E(\\epsilon_1^4) - E^2(\\epsilon_1^2) + E(\\epsilon_1^2)E(\\epsilon_2^2) - E^2(\\epsilon_1)E^2(\\epsilon_2) + ... + E(\\epsilon_1^2)E(\\epsilon_d^2) - E^2(\\epsilon_1)E^2(\\epsilon_d) = 3 - 1 + (D - 1) * 1 = 1 + D$\n",
    "\n",
    "## d). {.unnumbered}\n",
    "\n",
    ">$\\triangledown_\\theta(L(\\theta)) = E_{x \\sim_{i.i.d}N(\\theta, I)}(\\triangledown_\\theta \\sum_d x_d)$\n",
    "\n",
    ">Let $x = \\theta + \\epsilon$\n",
    "\n",
    ">$\\triangledown_{\\theta_i} \\sum_d x_d = \\frac{d(\\sum_d \\theta_d+ \\epsilon_d)}{d\\theta_i + \\epsilon_i}\\frac{d(\\theta_i + \\epsilon_i)}{d\\theta_i} = 1 * 1 = 1 \\implies \\hat g(f) = [\\triangledown_{\\theta_i}\\sum_d x_d ... \\triangledown_{\\theta_d}\\sum_d x_d]^T = [1 .... 1]^T$\n",
    "\n",
    ">$\\implies V(\\hat g_1) = 0$"
   ]
  },
  {
   "cell_type": "markdown",
   "metadata": {},
   "source": []
  }
 ],
 "metadata": {
  "kernelspec": {
   "display_name": "Python 3",
   "language": "python",
   "name": "python3"
  },
  "language_info": {
   "codemirror_mode": {
    "name": "ipython",
    "version": 3
   },
   "file_extension": ".py",
   "mimetype": "text/x-python",
   "name": "python",
   "nbconvert_exporter": "python",
   "pygments_lexer": "ipython3",
   "version": "3.7.1"
  }
 },
 "nbformat": 4,
 "nbformat_minor": 2
}
